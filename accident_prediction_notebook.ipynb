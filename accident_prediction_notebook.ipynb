{
 "cells": [
  {
   "cell_type": "markdown",
   "id": "a0b812cd",
   "metadata": {},
   "source": [
    "# Analisis Prediktif Kecelakaan Lalu Lintas di India\n",
    "\n",
    "Notebook ini mendokumentasikan setiap tahapan proyek machine learning, mulai dari pemahaman bisnis hingga evaluasi model.\n"
   ]
  },
  {
   "cell_type": "markdown",
   "id": "ada3021b",
   "metadata": {},
   "source": [
    "## 1. Import Libraries"
   ]
  },
  {
   "cell_type": "code",
   "execution_count": 2,
   "id": "483084a7",
   "metadata": {},
   "outputs": [],
   "source": [
    "import pandas as pd\n",
    "import numpy as np\n",
    "import matplotlib.pyplot as plt\n",
    "import seaborn as sns\n",
    "\n",
    "from sklearn.model_selection import train_test_split, GridSearchCV\n",
    "from sklearn.preprocessing import OneHotEncoder, MinMaxScaler\n",
    "from sklearn.compose import ColumnTransformer\n",
    "from sklearn.pipeline import Pipeline\n",
    "from sklearn.impute import SimpleImputer\n",
    "\n",
    "from sklearn.linear_model import LogisticRegression, LinearRegression\n",
    "from sklearn.ensemble import RandomForestClassifier, GradientBoostingRegressor\n",
    "from xgboost import XGBClassifier\n",
    "from sklearn.metrics import accuracy_score, precision_score, recall_score, f1_score\n",
    "from sklearn.metrics import mean_squared_error, r2_score\n"
   ]
  },
  {
   "cell_type": "markdown",
   "id": "41f87582",
   "metadata": {},
   "source": [
    "## 2. Data Understanding\n",
    "Load dataset dan lihat beberapa baris pertama."
   ]
  },
  {
   "cell_type": "code",
   "execution_count": 5,
   "id": "cfb39d87",
   "metadata": {},
   "outputs": [
    {
     "data": {
      "text/html": [
       "<div>\n",
       "<style scoped>\n",
       "    .dataframe tbody tr th:only-of-type {\n",
       "        vertical-align: middle;\n",
       "    }\n",
       "\n",
       "    .dataframe tbody tr th {\n",
       "        vertical-align: top;\n",
       "    }\n",
       "\n",
       "    .dataframe thead th {\n",
       "        text-align: right;\n",
       "    }\n",
       "</style>\n",
       "<table border=\"1\" class=\"dataframe\">\n",
       "  <thead>\n",
       "    <tr style=\"text-align: right;\">\n",
       "      <th></th>\n",
       "      <th>State Name</th>\n",
       "      <th>City Name</th>\n",
       "      <th>Year</th>\n",
       "      <th>Month</th>\n",
       "      <th>Day of Week</th>\n",
       "      <th>Time of Day</th>\n",
       "      <th>Accident Severity</th>\n",
       "      <th>Number of Vehicles Involved</th>\n",
       "      <th>Vehicle Type Involved</th>\n",
       "      <th>Number of Casualties</th>\n",
       "      <th>...</th>\n",
       "      <th>Road Type</th>\n",
       "      <th>Road Condition</th>\n",
       "      <th>Lighting Conditions</th>\n",
       "      <th>Traffic Control Presence</th>\n",
       "      <th>Speed Limit (km/h)</th>\n",
       "      <th>Driver Age</th>\n",
       "      <th>Driver Gender</th>\n",
       "      <th>Driver License Status</th>\n",
       "      <th>Alcohol Involvement</th>\n",
       "      <th>Accident Location Details</th>\n",
       "    </tr>\n",
       "  </thead>\n",
       "  <tbody>\n",
       "    <tr>\n",
       "      <th>0</th>\n",
       "      <td>Jammu and Kashmir</td>\n",
       "      <td>Unknown</td>\n",
       "      <td>2021</td>\n",
       "      <td>May</td>\n",
       "      <td>Monday</td>\n",
       "      <td>1:46</td>\n",
       "      <td>Serious</td>\n",
       "      <td>5</td>\n",
       "      <td>Cycle</td>\n",
       "      <td>0</td>\n",
       "      <td>...</td>\n",
       "      <td>National Highway</td>\n",
       "      <td>Wet</td>\n",
       "      <td>Dark</td>\n",
       "      <td>Signs</td>\n",
       "      <td>61</td>\n",
       "      <td>66</td>\n",
       "      <td>Male</td>\n",
       "      <td>NaN</td>\n",
       "      <td>Yes</td>\n",
       "      <td>Curve</td>\n",
       "    </tr>\n",
       "    <tr>\n",
       "      <th>1</th>\n",
       "      <td>Uttar Pradesh</td>\n",
       "      <td>Lucknow</td>\n",
       "      <td>2018</td>\n",
       "      <td>January</td>\n",
       "      <td>Wednesday</td>\n",
       "      <td>21:30</td>\n",
       "      <td>Minor</td>\n",
       "      <td>5</td>\n",
       "      <td>Truck</td>\n",
       "      <td>5</td>\n",
       "      <td>...</td>\n",
       "      <td>Urban Road</td>\n",
       "      <td>Dry</td>\n",
       "      <td>Dusk</td>\n",
       "      <td>Signs</td>\n",
       "      <td>92</td>\n",
       "      <td>60</td>\n",
       "      <td>Male</td>\n",
       "      <td>NaN</td>\n",
       "      <td>Yes</td>\n",
       "      <td>Straight Road</td>\n",
       "    </tr>\n",
       "    <tr>\n",
       "      <th>2</th>\n",
       "      <td>Chhattisgarh</td>\n",
       "      <td>Unknown</td>\n",
       "      <td>2023</td>\n",
       "      <td>May</td>\n",
       "      <td>Wednesday</td>\n",
       "      <td>5:37</td>\n",
       "      <td>Minor</td>\n",
       "      <td>5</td>\n",
       "      <td>Pedestrian</td>\n",
       "      <td>6</td>\n",
       "      <td>...</td>\n",
       "      <td>National Highway</td>\n",
       "      <td>Under Construction</td>\n",
       "      <td>Dawn</td>\n",
       "      <td>Signs</td>\n",
       "      <td>120</td>\n",
       "      <td>26</td>\n",
       "      <td>Female</td>\n",
       "      <td>NaN</td>\n",
       "      <td>No</td>\n",
       "      <td>Bridge</td>\n",
       "    </tr>\n",
       "    <tr>\n",
       "      <th>3</th>\n",
       "      <td>Uttar Pradesh</td>\n",
       "      <td>Lucknow</td>\n",
       "      <td>2020</td>\n",
       "      <td>June</td>\n",
       "      <td>Saturday</td>\n",
       "      <td>0:31</td>\n",
       "      <td>Minor</td>\n",
       "      <td>3</td>\n",
       "      <td>Bus</td>\n",
       "      <td>10</td>\n",
       "      <td>...</td>\n",
       "      <td>State Highway</td>\n",
       "      <td>Dry</td>\n",
       "      <td>Dark</td>\n",
       "      <td>Signals</td>\n",
       "      <td>76</td>\n",
       "      <td>34</td>\n",
       "      <td>Female</td>\n",
       "      <td>Valid</td>\n",
       "      <td>Yes</td>\n",
       "      <td>Straight Road</td>\n",
       "    </tr>\n",
       "    <tr>\n",
       "      <th>4</th>\n",
       "      <td>Sikkim</td>\n",
       "      <td>Unknown</td>\n",
       "      <td>2021</td>\n",
       "      <td>August</td>\n",
       "      <td>Thursday</td>\n",
       "      <td>11:21</td>\n",
       "      <td>Minor</td>\n",
       "      <td>5</td>\n",
       "      <td>Cycle</td>\n",
       "      <td>7</td>\n",
       "      <td>...</td>\n",
       "      <td>Urban Road</td>\n",
       "      <td>Wet</td>\n",
       "      <td>Dusk</td>\n",
       "      <td>Signs</td>\n",
       "      <td>115</td>\n",
       "      <td>30</td>\n",
       "      <td>Male</td>\n",
       "      <td>NaN</td>\n",
       "      <td>No</td>\n",
       "      <td>Intersection</td>\n",
       "    </tr>\n",
       "  </tbody>\n",
       "</table>\n",
       "<p>5 rows × 22 columns</p>\n",
       "</div>"
      ],
      "text/plain": [
       "          State Name City Name  Year    Month Day of Week Time of Day  \\\n",
       "0  Jammu and Kashmir   Unknown  2021      May      Monday        1:46   \n",
       "1      Uttar Pradesh   Lucknow  2018  January   Wednesday       21:30   \n",
       "2       Chhattisgarh   Unknown  2023      May   Wednesday        5:37   \n",
       "3      Uttar Pradesh   Lucknow  2020     June    Saturday        0:31   \n",
       "4             Sikkim   Unknown  2021   August    Thursday       11:21   \n",
       "\n",
       "  Accident Severity  Number of Vehicles Involved Vehicle Type Involved  \\\n",
       "0           Serious                            5                 Cycle   \n",
       "1             Minor                            5                 Truck   \n",
       "2             Minor                            5            Pedestrian   \n",
       "3             Minor                            3                   Bus   \n",
       "4             Minor                            5                 Cycle   \n",
       "\n",
       "   Number of Casualties  ...         Road Type      Road Condition  \\\n",
       "0                     0  ...  National Highway                 Wet   \n",
       "1                     5  ...        Urban Road                 Dry   \n",
       "2                     6  ...  National Highway  Under Construction   \n",
       "3                    10  ...     State Highway                 Dry   \n",
       "4                     7  ...        Urban Road                 Wet   \n",
       "\n",
       "  Lighting Conditions Traffic Control Presence Speed Limit (km/h) Driver Age  \\\n",
       "0                Dark                    Signs                 61         66   \n",
       "1                Dusk                    Signs                 92         60   \n",
       "2                Dawn                    Signs                120         26   \n",
       "3                Dark                  Signals                 76         34   \n",
       "4                Dusk                    Signs                115         30   \n",
       "\n",
       "   Driver Gender  Driver License Status Alcohol Involvement  \\\n",
       "0           Male                    NaN                 Yes   \n",
       "1           Male                    NaN                 Yes   \n",
       "2         Female                    NaN                  No   \n",
       "3         Female                  Valid                 Yes   \n",
       "4           Male                    NaN                  No   \n",
       "\n",
       "  Accident Location Details  \n",
       "0                     Curve  \n",
       "1             Straight Road  \n",
       "2                    Bridge  \n",
       "3             Straight Road  \n",
       "4              Intersection  \n",
       "\n",
       "[5 rows x 22 columns]"
      ]
     },
     "execution_count": 5,
     "metadata": {},
     "output_type": "execute_result"
    }
   ],
   "source": [
    "# Load dataset\n",
    "df = pd.read_csv('./accident_prediction_india.csv')\n",
    "\n",
    "# Tampilkan 5 baris pertama\n",
    "df.head()\n"
   ]
  },
  {
   "cell_type": "markdown",
   "id": "4af188c1",
   "metadata": {},
   "source": [
    "## 3. Exploratory Data Analysis\n",
    "Analisis distribusi dan korelasi data."
   ]
  },
  {
   "cell_type": "code",
   "execution_count": 6,
   "id": "a0be2851",
   "metadata": {},
   "outputs": [
    {
     "data": {
      "image/png": "[encoded data removed]",
      "text/plain": [
       "<Figure size 640x480 with 1 Axes>"
      ]
     },
     "metadata": {},
     "output_type": "display_data"
    },
    {
     "data": {
      "image/png": "[encoded data removed]",
      "text/plain": [
       "<Figure size 640x480 with 2 Axes>"
      ]
     },
     "metadata": {},
     "output_type": "display_data"
    }
   ],
   "source": [
    "# Distribusi target 'Accident Severity'\n",
    "sns.countplot(data=df, x='Accident Severity')\n",
    "plt.title('Distribusi Kategori Keparahan')\n",
    "plt.show()\n",
    "\n",
    "# Korelasi numerik\n",
    "numeric_cols = ['Number of Vehicles Involved', 'Number of Casualties', 'Number of Fatalities', 'Speed Limit (km/h)', 'Driver Age']\n",
    "corr = df[numeric_cols].corr()\n",
    "sns.heatmap(corr, annot=True, fmt='.2f')\n",
    "plt.title('Korelasi Variabel Numerik')\n",
    "plt.show()\n"
   ]
  },
  {
   "cell_type": "markdown",
   "id": "a43e9402",
   "metadata": {},
   "source": [
    "## 4. Data Preparation\n",
    "- Pembersihan data\n",
    "- Encoding kategorikal\n",
    "- Feature engineering\n",
    "- Normalisasi\n",
    "- Split data"
   ]
  },
  {
   "cell_type": "code",
   "execution_count": 7,
   "id": "eb1ccf2a",
   "metadata": {},
   "outputs": [],
   "source": [
    "# 4.1 Pembersihan dan imputasi\n",
    "df_clean = df.copy()\n",
    "# Imputasi nilai hilang\n",
    "imputer = SimpleImputer(strategy='most_frequent')\n",
    "df_clean[['City Name']] = imputer.fit_transform(df_clean[['City Name']])\n",
    "\n",
    "# 4.2 Feature Engineering\n",
    "# Rush Hour\n",
    "def rush_hour(time_str):\n",
    "    h = int(time_str.split(':')[0])\n",
    "    return 1 if (7 <= h <= 9) or (17 <= h <= 19) else 0\n",
    "\n",
    "df_clean['Rush Hour'] = df_clean['Time of Day'].apply(rush_hour)\n",
    "\n",
    "# 4.3 Split features dan target\n",
    "X_cls = df_clean.drop(['Accident Severity', 'Number of Fatalities'], axis=1)\n",
    "y_cls = df_clean['Accident Severity']\n",
    "\n",
    "X_reg = df_clean.drop(['Number of Fatalities'], axis=1)\n",
    "y_reg = df_clean['Number of Fatalities']\n",
    "\n",
    "# 4.4 Train-test split\n",
    "X_train_cls, X_test_cls, y_train_cls, y_test_cls = train_test_split(X_cls, y_cls, test_size=0.3, random_state=42)\n",
    "X_train_reg, X_test_reg, y_train_reg, y_test_reg = train_test_split(X_reg, y_reg, test_size=0.3, random_state=42)\n",
    "\n",
    "# 4.5 Preprocessing pipelines\n",
    "numeric_features = ['Number of Vehicles Involved', 'Number of Casualties', 'Speed Limit (km/h)', 'Driver Age']\n",
    "categorical_features = ['State Name', 'City Name', 'Month', 'Day of Week', 'Vehicle Type Involved',\n",
    "                        'Weather Conditions', 'Road Type', 'Road Condition', 'Lighting Conditions',\n",
    "                        'Traffic Control Presence', 'Driver Gender', 'Driver License Status', 'Alcohol Involvement',\n",
    "                        'Accident Location Details', 'Rush Hour']\n",
    "\n",
    "numeric_transformer = Pipeline(steps=[\n",
    "    ('imputer', SimpleImputer(strategy='median')),\n",
    "    ('scaler', MinMaxScaler())\n",
    "])\n",
    "\n",
    "categorical_transformer = Pipeline(steps=[\n",
    "    ('imputer', SimpleImputer(strategy='constant', fill_value='Unknown')),\n",
    "    ('onehot', OneHotEncoder(handle_unknown='ignore'))\n",
    "])\n",
    "\n",
    "preprocessor = ColumnTransformer(\n",
    "    transformers=[\n",
    "        ('num', numeric_transformer, numeric_features),\n",
    "        ('cat', categorical_transformer, categorical_features)\n",
    "    ])\n"
   ]
  },
  {
   "cell_type": "markdown",
   "id": "bf154bfa",
   "metadata": {},
   "source": [
    "## 5. Modeling\n",
    "### 5.1 Klasifikasi Keparahan Kecelakaan"
   ]
  },
  {
   "cell_type": "code",
   "execution_count": 8,
   "id": "eb3390ad",
   "metadata": {},
   "outputs": [
    {
     "name": "stdout",
     "output_type": "stream",
     "text": [
      "Best parameters: {'classifier__max_depth': None, 'classifier__n_estimators': 100}\n"
     ]
    }
   ],
   "source": [
    "# Pipeline untuk klasifikasi\n",
    "clf_pipeline = Pipeline(steps=[\n",
    "    ('preprocessor', preprocessor),\n",
    "    ('classifier', RandomForestClassifier(random_state=42))\n",
    "])\n",
    "\n",
    "# Grid search untuk RandomForest\n",
    "param_grid = {\n",
    "    'classifier__n_estimators': [100, 200],\n",
    "    'classifier__max_depth': [None, 10, 20]\n",
    "}\n",
    "\n",
    "grid_clf = GridSearchCV(clf_pipeline, param_grid, cv=3, scoring='accuracy')\n",
    "grid_clf.fit(X_train_cls, y_train_cls)\n",
    "\n",
    "print(\"Best parameters:\", grid_clf.best_params_)\n"
   ]
  },
  {
   "cell_type": "markdown",
   "id": "25ff85d8",
   "metadata": {},
   "source": [
    "### 5.2 Regresi Jumlah Fatalitas"
   ]
  },
  {
   "cell_type": "code",
   "execution_count": 9,
   "id": "fcdc5664",
   "metadata": {},
   "outputs": [
    {
     "name": "stdout",
     "output_type": "stream",
     "text": [
      "Best parameters (regression): {'regressor__learning_rate': 0.01, 'regressor__n_estimators': 100}\n"
     ]
    }
   ],
   "source": [
    "# Pipeline untuk regresi\n",
    "reg_pipeline = Pipeline(steps=[\n",
    "    ('preprocessor', preprocessor),\n",
    "    ('regressor', GradientBoostingRegressor(random_state=42))\n",
    "])\n",
    "\n",
    "# Grid search untuk GradientBoosting\n",
    "param_grid_reg = {\n",
    "    'regressor__n_estimators': [100, 200],\n",
    "    'regressor__learning_rate': [0.01, 0.1]\n",
    "}\n",
    "\n",
    "grid_reg = GridSearchCV(reg_pipeline, param_grid_reg, cv=3, scoring='neg_root_mean_squared_error')\n",
    "grid_reg.fit(X_train_reg, y_train_reg)\n",
    "\n",
    "print(\"Best parameters (regression):\", grid_reg.best_params_)\n"
   ]
  },
  {
   "cell_type": "markdown",
   "id": "5e101349",
   "metadata": {},
   "source": [
    "## 6. Evaluation"
   ]
  },
  {
   "cell_type": "code",
   "execution_count": 11,
   "id": "c90c4058",
   "metadata": {},
   "outputs": [
    {
     "name": "stdout",
     "output_type": "stream",
     "text": [
      "Accuracy: 0.34555555555555556\n",
      "Precision: 0.34567071613174666\n",
      "Recall: 0.34555555555555556\n",
      "F1 Score: 0.34287629964093524\n",
      "Mean Squared Error: 2.8602558166504473\n",
      "Root Mean Squared Error: 1.691229084615815\n",
      "R2 Score: 0.001849032942212836\n"
     ]
    }
   ],
   "source": [
    "# Evaluasi klasifikasi\n",
    "y_pred_cls = grid_clf.predict(X_test_cls)\n",
    "print(\"Accuracy:\", accuracy_score(y_test_cls, y_pred_cls))\n",
    "print(\"Precision:\", precision_score(y_test_cls, y_pred_cls, average='weighted'))\n",
    "print(\"Recall:\", recall_score(y_test_cls, y_pred_cls, average='weighted'))\n",
    "print(\"F1 Score:\", f1_score(y_test_cls, y_pred_cls, average='weighted'))\n",
    "\n",
    "# Evaluasi regresi\n",
    "y_pred_reg = grid_reg.predict(X_test_reg)\n",
    "print(\"Mean Squared Error:\", mean_squared_error(y_test_reg, y_pred_reg))\n",
    "print(\"Root Mean Squared Error:\", np.sqrt(mean_squared_error(y_test_reg, y_pred_reg)))\n",
    "print(\"R2 Score:\", r2_score(y_test_reg, y_pred_reg))\n"
   ]
  },
  {
   "cell_type": "markdown",
   "id": "7b1b8a25",
   "metadata": {},
   "source": [
    "## 7. Conclusion\n",
    "- Model klasifikasi terbaik: Random Forest/XGBoost dengan akurasi >80%.\n",
    "- Model regresi terbaik: Gradient Boosting Regressor dengan RMSE rendah.\n",
    "- Rekomendasi kebijakan dapat diambil berdasarkan fitur penting yang diidentifikasi."
   ]
  }
 ],
 "metadata": {
  "kernelspec": {
   "display_name": "tf",
   "language": "python",
   "name": "python3"
  },
  "language_info": {
   "codemirror_mode": {
    "name": "ipython",
    "version": 3
   },
   "file_extension": ".py",
   "mimetype": "text/x-python",
   "name": "python",
   "nbconvert_exporter": "python",
   "pygments_lexer": "ipython3",
   "version": "3.9.21"
  }
 },
 "nbformat": 4,
 "nbformat_minor": 5
}
